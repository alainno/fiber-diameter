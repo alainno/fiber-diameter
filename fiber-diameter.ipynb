{
  "nbformat": 4,
  "nbformat_minor": 0,
  "metadata": {
    "colab": {
      "name": "fiber diameter.ipynb",
      "version": "0.3.2",
      "provenance": [],
      "collapsed_sections": []
    },
    "kernelspec": {
      "name": "python3",
      "display_name": "Python 3"
    }
  },
  "cells": [
    {
      "cell_type": "code",
      "metadata": {
        "id": "jTd923p5PWSq",
        "colab_type": "code",
        "outputId": "4afc151c-74b6-451c-f903-c5657dcf0c22",
        "colab": {
          "base_uri": "https://localhost:8080/",
          "height": 139
        }
      },
      "source": [
        "import cv2\n",
        "import numpy as np\n",
        "from matplotlib import pyplot as plt\n",
        "from google.colab.patches import cv2_imshow\n",
        " \n",
        "img = cv2.imread('nanofibers.png',0)\n",
        "\n",
        "#plt.imshow(img)\n",
        "#plt.show()\n",
        "#cv2_imshow(img)\n",
        "img"
      ],
      "execution_count": 0,
      "outputs": [
        {
          "output_type": "execute_result",
          "data": {
            "text/plain": [
              "array([[211, 230, 255, ...,   0,   0,  12],\n",
              "       [ 10,  50, 113, ...,   0,   0,  12],\n",
              "       [  9,   0,   0, ...,   0,   0,  12],\n",
              "       ...,\n",
              "       [254, 254, 254, ...,   0,   0,  12],\n",
              "       [254, 254, 254, ...,   0,   0,  12],\n",
              "       [254, 254, 254, ...,  19,  19,  27]], dtype=uint8)"
            ]
          },
          "metadata": {
            "tags": []
          },
          "execution_count": 21
        }
      ]
    },
    {
      "cell_type": "code",
      "metadata": {
        "id": "XZFecECxRIoM",
        "colab_type": "code",
        "outputId": "dfcb1fdc-fe32-41f7-d0e3-bf3d02f902fe",
        "colab": {
          "base_uri": "https://localhost:8080/",
          "height": 34
        }
      },
      "source": [
        "size = np.size(img)\n",
        "#size\n",
        "img.shape"
      ],
      "execution_count": 0,
      "outputs": [
        {
          "output_type": "execute_result",
          "data": {
            "text/plain": [
              "(190, 254)"
            ]
          },
          "metadata": {
            "tags": []
          },
          "execution_count": 22
        }
      ]
    },
    {
      "cell_type": "code",
      "metadata": {
        "id": "DslV-a7sS39b",
        "colab_type": "code",
        "colab": {}
      },
      "source": [
        "skel = np.zeros(img.shape,np.uint8) # matriz de 0s del mismo tamaño que img (primer skeleton)\n",
        "#np.size(skel)"
      ],
      "execution_count": 0,
      "outputs": []
    },
    {
      "cell_type": "code",
      "metadata": {
        "id": "mJmk5F15S2G9",
        "colab_type": "code",
        "outputId": "b6144198-6b9d-41c6-bb71-7c22afca364a",
        "colab": {
          "base_uri": "https://localhost:8080/",
          "height": 139
        }
      },
      "source": [
        "ret,img = cv2.threshold(img,127,255,0) # binarizacion\n",
        "\n",
        "ret,img"
      ],
      "execution_count": 0,
      "outputs": [
        {
          "output_type": "execute_result",
          "data": {
            "text/plain": [
              "(127.0, array([[255, 255, 255, ...,   0,   0,   0],\n",
              "        [  0,   0,   0, ...,   0,   0,   0],\n",
              "        [  0,   0,   0, ...,   0,   0,   0],\n",
              "        ...,\n",
              "        [255, 255, 255, ...,   0,   0,   0],\n",
              "        [255, 255, 255, ...,   0,   0,   0],\n",
              "        [255, 255, 255, ...,   0,   0,   0]], dtype=uint8))"
            ]
          },
          "metadata": {
            "tags": []
          },
          "execution_count": 24
        }
      ]
    },
    {
      "cell_type": "code",
      "metadata": {
        "id": "wvpd7-SmUht0",
        "colab_type": "code",
        "outputId": "e5671762-6cfd-4e5d-c1a0-74cf9388c3cb",
        "colab": {
          "base_uri": "https://localhost:8080/",
          "height": 69
        }
      },
      "source": [
        "element = cv2.getStructuringElement(cv2.MORPH_CROSS,(3,3))\n",
        "done = False\n",
        " \n",
        "element"
      ],
      "execution_count": 0,
      "outputs": [
        {
          "output_type": "execute_result",
          "data": {
            "text/plain": [
              "array([[0, 1, 0],\n",
              "       [1, 1, 1],\n",
              "       [0, 1, 0]], dtype=uint8)"
            ]
          },
          "metadata": {
            "tags": []
          },
          "execution_count": 25
        }
      ]
    },
    {
      "cell_type": "code",
      "metadata": {
        "id": "vdJ2jQyOZnHW",
        "colab_type": "code",
        "colab": {}
      },
      "source": [
        "#eroded = cv2.erode(img,element) # erosion\n",
        "#cv2_imshow(eroded)"
      ],
      "execution_count": 0,
      "outputs": []
    },
    {
      "cell_type": "code",
      "metadata": {
        "id": "JdX2mwt0V9d7",
        "colab_type": "code",
        "outputId": "3ac3e42c-0d36-4712-fff9-b75aded71b84",
        "colab": {
          "base_uri": "https://localhost:8080/",
          "height": 207
        }
      },
      "source": [
        "while(not done):\n",
        "    eroded = cv2.erode(img,element) # erosion de la ultima imagen erosionada\n",
        "    #cv2_imshow(eroded)\n",
        "    temp = cv2.dilate(eroded,element) # dilatacion\n",
        "    #cv2_imshow(temp)\n",
        "    temp = cv2.subtract(img,temp) #la imagen erosionada y dilatada se resta con la ultima imagen erosionada\n",
        "    #cv2_imshow(temp)\n",
        "    skel = cv2.bitwise_or(skel,temp)\n",
        "    #cv2_imshow(skel)\n",
        "    img = eroded.copy()\n",
        "    zeros = size - cv2.countNonZero(img) # Si ya se eliminaron todos los pixels blancos terminar\n",
        "    if zeros==size:\n",
        "        done = True\n",
        "\n",
        "#cv2.imshow(\"skel\",skel)\n",
        "cv2_imshow(skel)\n",
        "cv2.waitKey(0)\n",
        "cv2.destroyAllWindows()"
      ],
      "execution_count": 0,
      "outputs": [
        {
          "output_type": "display_data",
          "data": {
            "image/png": "[encoded data removed]",
            "text/plain": [
              "<PIL.Image.Image image mode=L size=254x190 at 0x7FC70FE8B7B8>"
            ]
          },
          "metadata": {
            "tags": []
          }
        }
      ]
    },
    {
      "cell_type": "code",
      "metadata": {
        "id": "am74GSoYYCVt",
        "colab_type": "code",
        "outputId": "f51106ce-8b91-4df2-e1a4-cd6c908bd249",
        "colab": {
          "base_uri": "https://localhost:8080/",
          "height": 54
        }
      },
      "source": [
        "'''\n",
        "# transformada de distancia\n",
        "\n",
        "from skimage import img_as_float\n",
        "from skimage import io, color, morphology\n",
        "import matplotlib.pyplot as plt\n",
        "\n",
        "image = img_as_float(color.rgb2gray(io.imread('nanofibers.png')))\n",
        "image_binary = image < 0.5\n",
        "out_skeletonize = morphology.skeletonize(image_binary)\n",
        "out_thin = morphology.thin(image_binary)\n",
        "\n",
        "\n",
        "f, (ax0, ax1, ax2) = plt.subplots(1, 3, figsize=(10, 3))\n",
        "\n",
        "ax0.imshow(image, cmap='gray')\n",
        "ax0.set_title('Input')\n",
        "\n",
        "ax1.imshow(out_skeletonize, cmap='gray')\n",
        "ax1.set_title('Skeletonize')\n",
        "\n",
        "ax2.imshow(out_thin, cmap='gray')\n",
        "ax2.set_title('Thin')\n",
        "\n",
        "#plt.savefig('/tmp/char_out.png')\n",
        "plt.show()\n",
        "\n",
        "#cv2_imshow(out_thin)\n",
        "\n",
        "'''"
      ],
      "execution_count": 0,
      "outputs": [
        {
          "output_type": "execute_result",
          "data": {
            "text/plain": [
              "\"\\n# transformada de distancia\\n\\nfrom skimage import img_as_float\\nfrom skimage import io, color, morphology\\nimport matplotlib.pyplot as plt\\n\\nimage = img_as_float(color.rgb2gray(io.imread('nanofibers.png')))\\nimage_binary = image < 0.5\\nout_skeletonize = morphology.skeletonize(image_binary)\\nout_thin = morphology.thin(image_binary)\\n\\n\\nf, (ax0, ax1, ax2) = plt.subplots(1, 3, figsize=(10, 3))\\n\\nax0.imshow(image, cmap='gray')\\nax0.set_title('Input')\\n\\nax1.imshow(out_skeletonize, cmap='gray')\\nax1.set_title('Skeletonize')\\n\\nax2.imshow(out_thin, cmap='gray')\\nax2.set_title('Thin')\\n\\n#plt.savefig('/tmp/char_out.png')\\nplt.show()\\n\\n#cv2_imshow(out_thin)\\n\\n\""
            ]
          },
          "metadata": {
            "tags": []
          },
          "execution_count": 28
        }
      ]
    },
    {
      "cell_type": "code",
      "metadata": {
        "id": "cGBns_VXi3ZB",
        "colab_type": "code",
        "outputId": "877dd9f8-6a3b-482e-b733-21f8ea357cd4",
        "colab": {
          "base_uri": "https://localhost:8080/",
          "height": 398
        }
      },
      "source": [
        "from skimage import img_as_bool, io, color, morphology\n",
        "import matplotlib.pyplot as plt\n",
        "\n",
        "#binarizacion\n",
        "image = img_as_bool(color.rgb2gray(io.imread('nanofibers.png')))\n",
        "#image = image.astype('uint8')\n",
        "\n",
        "def cv2_imshow_bin(img):\n",
        "  cv2_imshow(np.where(img==True, 255, img))\n",
        "\n",
        "cv2_imshow_bin(image)\n",
        "  \n",
        "image"
      ],
      "execution_count": 0,
      "outputs": [
        {
          "output_type": "stream",
          "text": [
            "/usr/local/lib/python3.6/dist-packages/skimage/util/dtype.py:131: UserWarning: Possible sign loss when converting negative image of type float64 to positive image of type bool.\n",
            "  .format(dtypeobj_in, dtypeobj_out))\n",
            "/usr/local/lib/python3.6/dist-packages/skimage/util/dtype.py:135: UserWarning: Possible precision loss when converting from float64 to bool\n",
            "  .format(dtypeobj_in, dtypeobj_out))\n"
          ],
          "name": "stderr"
        },
        {
          "output_type": "display_data",
          "data": {
            "image/png": "[encoded data removed]",
            "text/plain": [
              "<PIL.Image.Image image mode=L size=254x190 at 0x7FC70FEFABA8>"
            ]
          },
          "metadata": {
            "tags": []
          }
        },
        {
          "output_type": "execute_result",
          "data": {
            "text/plain": [
              "array([[ True,  True,  True, ..., False, False, False],\n",
              "       [False, False, False, ..., False, False, False],\n",
              "       [False, False, False, ..., False, False, False],\n",
              "       ...,\n",
              "       [ True,  True,  True, ..., False, False, False],\n",
              "       [ True,  True,  True, ..., False, False, False],\n",
              "       [ True,  True,  True, ..., False, False, False]])"
            ]
          },
          "metadata": {
            "tags": []
          },
          "execution_count": 29
        }
      ]
    },
    {
      "cell_type": "code",
      "metadata": {
        "id": "Z-a_JJSojB8J",
        "colab_type": "code",
        "outputId": "fb321881-37d0-4203-ccd8-4179a674f393",
        "colab": {
          "base_uri": "https://localhost:8080/",
          "height": 139
        }
      },
      "source": [
        "# Skeleton\n",
        "\n",
        "skeleton, distance = morphology.medial_axis(image, mask=None, return_distance=True)\n",
        "skeleton\n",
        "#f, (ax0, ax1) = plt.subplots(1, 2)\n",
        "#ax0.imshow(image, cmap='gray', interpolation='nearest')\n",
        "#ax1.imshow(out, cmap='gray', interpolation='nearest')\n",
        "#plt.show()"
      ],
      "execution_count": 0,
      "outputs": [
        {
          "output_type": "execute_result",
          "data": {
            "text/plain": [
              "array([[ True,  True,  True, ..., False, False, False],\n",
              "       [False, False, False, ..., False, False, False],\n",
              "       [False, False, False, ..., False, False, False],\n",
              "       ...,\n",
              "       [False, False, False, ..., False, False, False],\n",
              "       [False, False, False, ..., False, False, False],\n",
              "       [ True,  True,  True, ..., False, False, False]])"
            ]
          },
          "metadata": {
            "tags": []
          },
          "execution_count": 30
        }
      ]
    },
    {
      "cell_type": "code",
      "metadata": {
        "id": "CNzN0wQfg3pA",
        "colab_type": "code",
        "outputId": "0f695ad4-86b7-428c-a4ad-268a2502c846",
        "colab": {
          "base_uri": "https://localhost:8080/",
          "height": 207
        }
      },
      "source": [
        "#skeleton out.astype('uint8')\n",
        "\n",
        "cv2_imshow_bin(skeleton)"
      ],
      "execution_count": 0,
      "outputs": [
        {
          "output_type": "display_data",
          "data": {
            "image/png": "[encoded data removed]",
            "text/plain": [
              "<PIL.Image.Image image mode=L size=254x190 at 0x7FC70FE9B0B8>"
            ]
          },
          "metadata": {
            "tags": []
          }
        }
      ]
    },
    {
      "cell_type": "code",
      "metadata": {
        "id": "Itl5xKtQisKW",
        "colab_type": "code",
        "outputId": "7e4e76e8-fa92-49df-ff6b-1c807a3d4134",
        "colab": {
          "base_uri": "https://localhost:8080/",
          "height": 243
        }
      },
      "source": [
        "distance"
      ],
      "execution_count": 0,
      "outputs": [
        {
          "output_type": "execute_result",
          "data": {
            "text/plain": [
              "array([[1.        , 1.        , 1.        , ..., 0.        , 0.        ,\n",
              "        0.        ],\n",
              "       [0.        , 0.        , 0.        , ..., 0.        , 0.        ,\n",
              "        0.        ],\n",
              "       [0.        , 0.        , 0.        , ..., 0.        , 0.        ,\n",
              "        0.        ],\n",
              "       ...,\n",
              "       [5.        , 5.09901951, 5.38516481, ..., 0.        , 0.        ,\n",
              "        0.        ],\n",
              "       [6.        , 6.08276253, 6.32455532, ..., 0.        , 0.        ,\n",
              "        0.        ],\n",
              "       [7.        , 7.07106781, 7.28010989, ..., 0.        , 0.        ,\n",
              "        0.        ]])"
            ]
          },
          "metadata": {
            "tags": []
          },
          "execution_count": 32
        }
      ]
    },
    {
      "cell_type": "code",
      "metadata": {
        "id": "CzmVFWebkd7p",
        "colab_type": "code",
        "outputId": "08161d8f-5d79-4110-9c8f-3df513902313",
        "colab": {
          "base_uri": "https://localhost:8080/",
          "height": 139
        }
      },
      "source": [
        "thinned = morphology.thin(image)\n",
        "#thinned = morphology.thin(image)\n",
        "#thinned.astype('uint8')\n",
        "\n",
        "thinned"
      ],
      "execution_count": 0,
      "outputs": [
        {
          "output_type": "execute_result",
          "data": {
            "text/plain": [
              "array([[ True,  True,  True, ..., False, False, False],\n",
              "       [False, False, False, ..., False, False, False],\n",
              "       [False, False, False, ..., False, False, False],\n",
              "       ...,\n",
              "       [False, False, False, ..., False, False, False],\n",
              "       [False, False, False, ..., False, False, False],\n",
              "       [False, False, False, ..., False, False, False]])"
            ]
          },
          "metadata": {
            "tags": []
          },
          "execution_count": 33
        }
      ]
    },
    {
      "cell_type": "code",
      "metadata": {
        "id": "AgWQtVi3hoag",
        "colab_type": "code",
        "outputId": "6a83e8d4-8055-4d34-8d74-af575f46d1b9",
        "colab": {
          "base_uri": "https://localhost:8080/",
          "height": 207
        }
      },
      "source": [
        "cv2_imshow_bin(thinned)"
      ],
      "execution_count": 0,
      "outputs": [
        {
          "output_type": "display_data",
          "data": {
            "image/png": "[encoded data removed]",
            "text/plain": [
              "<PIL.Image.Image image mode=L size=254x190 at 0x7FC70FEFA4E0>"
            ]
          },
          "metadata": {
            "tags": []
          }
        }
      ]
    },
    {
      "cell_type": "code",
      "metadata": {
        "id": "IzgqBzYiBg_9",
        "colab_type": "code",
        "colab": {}
      },
      "source": [
        ""
      ],
      "execution_count": 0,
      "outputs": []
    },
    {
      "cell_type": "code",
      "metadata": {
        "id": "yZ7jEBkSkl-t",
        "colab_type": "code",
        "outputId": "ae92c838-b7ef-4ad4-94fa-c2a07eb17c3d",
        "colab": {
          "base_uri": "https://localhost:8080/",
          "height": 329
        }
      },
      "source": [
        "# pruning...\n",
        "\n",
        "from scipy import ndimage\n",
        "\n",
        "B1 = np.array([[0, 0, 0], [0, 1, 0], [1, 1, 1]])\n",
        "B2 = np.array([[0, 0, 0], [1, 1, 0], [1, 1, 0]])\n",
        "B3 = np.array([[1, 1, 0], [1, 1, 0], [0, 0, 0]])\n",
        "B4 = np.array([[1, 0, 0], [1, 1, 0], [1, 0, 0]])\n",
        "B5 = np.array([[1, 1, 1], [0, 1, 0], [0, 0, 0]])\n",
        "B6 = np.array([[0, 1, 1], [0, 1, 1], [0, 0, 0]])\n",
        "B7 = np.array([[0, 0, 1], [0, 1, 1], [0, 0, 1]])\n",
        "B8 = np.array([[0, 0, 0], [0, 1, 1], [0, 1, 1]])\n",
        "\n",
        "A = image.copy().astype('int')\n",
        "\n",
        "#X = A - ndimage.binary_hit_or_miss(A, structure1=B1)\n",
        "\n",
        "A1 = A - ndimage.binary_hit_or_miss(A, structure1=B1)\n",
        "A2 = A1 - ndimage.binary_hit_or_miss(A1, structure1=B2)\n",
        "A3 = A2 - ndimage.binary_hit_or_miss(A2, structure1=B3)\n",
        "A4 = A3 - ndimage.binary_hit_or_miss(A3, structure1=B4)\n",
        "A5 = A4 - ndimage.binary_hit_or_miss(A4, structure1=B5)\n",
        "A6 = A5 - ndimage.binary_hit_or_miss(A5, structure1=B6)\n",
        "A7 = A6 - ndimage.binary_hit_or_miss(A6, structure1=B7)\n",
        "A8 = A7 - ndimage.binary_hit_or_miss(A7, structure1=B8)\n",
        "A9 = A8 - ndimage.binary_hit_or_miss(A8, structure1=B1)\n",
        "A10 = A9 - ndimage.binary_hit_or_miss(A9, structure1=B2)\n",
        "\n",
        "X = A - A10\n",
        "cv2_imshow(np.where(X==True, 255, X))\n",
        "\n",
        "\n",
        "structure1 = np.array([[0, 0, 0], [0, 0, 0], [0, 0, 0]])\n",
        "structure2 = np.array([[0, 0, 0], [0, 1, 0], [1, 1, 0]])\n",
        "\n",
        "#prunned = ndimage.binary_hit_or_miss(thinned, structure1=structure1, structure2=structure2).astype('int')\n",
        "\n",
        "\n",
        "\n",
        "prunned = ndimage.binary_hit_or_miss(thinned, structure1=structure1)\n",
        "\n",
        "prunned"
      ],
      "execution_count": 0,
      "outputs": [
        {
          "output_type": "display_data",
          "data": {
            "image/png": "[encoded data removed]",
            "text/plain": [
              "<PIL.Image.Image image mode=L size=254x190 at 0x7FC70FEB6B00>"
            ]
          },
          "metadata": {
            "tags": []
          }
        },
        {
          "output_type": "execute_result",
          "data": {
            "text/plain": [
              "array([[False, False, False, ...,  True,  True,  True],\n",
              "       [False, False, False, ...,  True,  True,  True],\n",
              "       [ True,  True, False, ...,  True,  True,  True],\n",
              "       ...,\n",
              "       [ True,  True,  True, ...,  True,  True,  True],\n",
              "       [ True,  True,  True, ...,  True,  True,  True],\n",
              "       [ True,  True,  True, ...,  True,  True,  True]])"
            ]
          },
          "metadata": {
            "tags": []
          },
          "execution_count": 35
        }
      ]
    },
    {
      "cell_type": "code",
      "metadata": {
        "id": "PI_cYR9tSH0b",
        "colab_type": "code",
        "outputId": "7117d8d7-81bd-41a6-8601-040ee294503e",
        "colab": {
          "base_uri": "https://localhost:8080/",
          "height": 54
        }
      },
      "source": [
        "#\n",
        "'''\n",
        "An = image.copy().astype('int')\n",
        "\n",
        "Bn = []\n",
        "\n",
        "Bn.append(np.array([[0, 0, 0], [0, 1, 0], [1, 1, 1]]))\n",
        "Bn.append(np.array([[0, 0, 0], [1, 1, 0], [1, 1, 0]]))\n",
        "Bn.append(np.array([[1, 1, 0], [1, 1, 0], [0, 0, 0]]))\n",
        "Bn.append(np.array([[1, 0, 0], [1, 1, 0], [1, 0, 0]]))\n",
        "Bn.append(np.array([[1, 1, 1], [0, 1, 0], [0, 0, 0]]))\n",
        "Bn.append(np.array([[0, 1, 1], [0, 1, 1], [0, 0, 0]]))\n",
        "Bn.append(np.array([[0, 0, 1], [0, 1, 1], [0, 0, 1]]))\n",
        "Bn.append(np.array([[0, 0, 0], [0, 1, 1], [0, 1, 1]]))\n",
        "\n",
        "#Bn[0]\n",
        "\n",
        "for i in range(10):\n",
        "  An = An - ndimage.binary_hit_or_miss(An, structure1=Bn[i%8])\n",
        "\n",
        "cv2_imshow(np.where(An==True, 255, An))  \n",
        " \n",
        "X = A - An\n",
        "cv2_imshow(np.where(X==True, 255, X))\n",
        "'''\n",
        "\n",
        "#img = cv2.imread('nanofibers.png',0)\n",
        "\n",
        "#dst = img.copy()\n",
        "\n",
        "#img, cv2.ximgproc.thinning(img, dst)\n",
        "\n",
        "#cv2_imshow(dst)\n",
        "\n",
        "#prunned = morphology.remove_small_objects(thinned, min_size=1)\n",
        "\n",
        "#cv2_imshow(np.where(prunned==True, 255, prunned))  "
      ],
      "execution_count": 0,
      "outputs": [
        {
          "output_type": "execute_result",
          "data": {
            "text/plain": [
              "\"\\nAn = image.copy().astype('int')\\n\\nBn = []\\n\\nBn.append(np.array([[0, 0, 0], [0, 1, 0], [1, 1, 1]]))\\nBn.append(np.array([[0, 0, 0], [1, 1, 0], [1, 1, 0]]))\\nBn.append(np.array([[1, 1, 0], [1, 1, 0], [0, 0, 0]]))\\nBn.append(np.array([[1, 0, 0], [1, 1, 0], [1, 0, 0]]))\\nBn.append(np.array([[1, 1, 1], [0, 1, 0], [0, 0, 0]]))\\nBn.append(np.array([[0, 1, 1], [0, 1, 1], [0, 0, 0]]))\\nBn.append(np.array([[0, 0, 1], [0, 1, 1], [0, 0, 1]]))\\nBn.append(np.array([[0, 0, 0], [0, 1, 1], [0, 1, 1]]))\\n\\n#Bn[0]\\n\\nfor i in range(10):\\n  An = An - ndimage.binary_hit_or_miss(An, structure1=Bn[i%8])\\n\\ncv2_imshow(np.where(An==True, 255, An))  \\n \\nX = A - An\\ncv2_imshow(np.where(X==True, 255, X))\\n\""
            ]
          },
          "metadata": {
            "tags": []
          },
          "execution_count": 36
        }
      ]
    },
    {
      "cell_type": "code",
      "metadata": {
        "id": "Qo6Co2Znh6FE",
        "colab_type": "code",
        "colab": {}
      },
      "source": [
        "#cv2_imshow(np.where(prunned==True, 255, prunned))"
      ],
      "execution_count": 0,
      "outputs": []
    },
    {
      "cell_type": "code",
      "metadata": {
        "id": "3keBNQE3Kejx",
        "colab_type": "code",
        "colab": {}
      },
      "source": [
        "import mahotas as mh\n",
        "\n",
        "\n",
        "def branchedPoints(skel):\n",
        "    branch1=np.array([[2, 1, 2], [1, 1, 1], [2, 2, 2]])\n",
        "    branch2=np.array([[1, 2, 1], [2, 1, 2], [1, 2, 1]])\n",
        "    branch3=np.array([[1, 2, 1], [2, 1, 2], [1, 2, 2]])\n",
        "    branch4=np.array([[2, 1, 2], [1, 1, 2], [2, 1, 2]])\n",
        "    branch5=np.array([[1, 2, 2], [2, 1, 2], [1, 2, 1]])\n",
        "    branch6=np.array([[2, 2, 2], [1, 1, 1], [2, 1, 2]])\n",
        "    branch7=np.array([[2, 2, 1], [2, 1, 2], [1, 2, 1]])\n",
        "    branch8=np.array([[2, 1, 2], [2, 1, 1], [2, 1, 2]])\n",
        "    branch9=np.array([[1, 2, 1], [2, 1, 2], [2, 2, 1]])\n",
        "    br1=mh.morph.hitmiss(skel,branch1)\n",
        "    br2=mh.morph.hitmiss(skel,branch2)\n",
        "    br3=mh.morph.hitmiss(skel,branch3)\n",
        "    br4=mh.morph.hitmiss(skel,branch4)\n",
        "    br5=mh.morph.hitmiss(skel,branch5)\n",
        "    br6=mh.morph.hitmiss(skel,branch6)\n",
        "    br7=mh.morph.hitmiss(skel,branch7)\n",
        "    br8=mh.morph.hitmiss(skel,branch8)\n",
        "    br9=mh.morph.hitmiss(skel,branch9)\n",
        "    return br1+br2+br3+br4+br5+br6+br7+br8+br9\n",
        "\n",
        "def endPoints(skel):\n",
        "    endpoint1=np.array([[0, 0, 0],\n",
        "                        [0, 1, 0],\n",
        "                        [2, 1, 2]])\n",
        "    \n",
        "    endpoint2=np.array([[0, 0, 0],\n",
        "                        [0, 1, 2],\n",
        "                        [0, 2, 1]])\n",
        "    \n",
        "    endpoint3=np.array([[0, 0, 2],\n",
        "                        [0, 1, 1],\n",
        "                        [0, 0, 2]])\n",
        "    \n",
        "    endpoint4=np.array([[0, 2, 1],\n",
        "                        [0, 1, 2],\n",
        "                        [0, 0, 0]])\n",
        "    \n",
        "    endpoint5=np.array([[2, 1, 2],\n",
        "                        [0, 1, 0],\n",
        "                        [0, 0, 0]])\n",
        "    \n",
        "    endpoint6=np.array([[1, 2, 0],\n",
        "                        [2, 1, 0],\n",
        "                        [0, 0, 0]])\n",
        "    \n",
        "    endpoint7=np.array([[2, 0, 0],\n",
        "                        [1, 1, 0],\n",
        "                        [2, 0, 0]])\n",
        "    \n",
        "    endpoint8=np.array([[0, 0, 0],\n",
        "                        [2, 1, 0],\n",
        "                        [1, 2, 0]])\n",
        "    \n",
        "    ep1=mh.morph.hitmiss(skel,endpoint1)\n",
        "    ep2=mh.morph.hitmiss(skel,endpoint2)\n",
        "    ep3=mh.morph.hitmiss(skel,endpoint3)\n",
        "    ep4=mh.morph.hitmiss(skel,endpoint4)\n",
        "    ep5=mh.morph.hitmiss(skel,endpoint5)\n",
        "    ep6=mh.morph.hitmiss(skel,endpoint6)\n",
        "    ep7=mh.morph.hitmiss(skel,endpoint7)\n",
        "    ep8=mh.morph.hitmiss(skel,endpoint8)\n",
        "    ep = ep1+ep2+ep3+ep4+ep5+ep6+ep7+ep8\n",
        "    return ep\n",
        "\n",
        "def pruning(skeleton, size):\n",
        "    '''remove iteratively end points \"size\" \n",
        "       times from the skeleton\n",
        "    '''\n",
        "    for i in range(0, size):\n",
        "        endpoints = endPoints(skeleton)\n",
        "        endpoints = np.logical_not(endpoints)\n",
        "        skeleton = np.logical_and(skeleton,endpoints)\n",
        "    return skeleton"
      ],
      "execution_count": 0,
      "outputs": []
    },
    {
      "cell_type": "code",
      "metadata": {
        "id": "NPzmSnQHL4QI",
        "colab_type": "code",
        "outputId": "18ad479b-601d-472d-a613-1cbaf82f2707",
        "colab": {
          "base_uri": "https://localhost:8080/",
          "height": 207
        }
      },
      "source": [
        "prunned = pruning(skeleton,100)\n",
        "prunned\n",
        "\n",
        "cv2_imshow_bin(prunned)"
      ],
      "execution_count": 0,
      "outputs": [
        {
          "output_type": "display_data",
          "data": {
            "image/png": "[encoded data removed]",
            "text/plain": [
              "<PIL.Image.Image image mode=L size=254x190 at 0x7FC70FE96AC8>"
            ]
          },
          "metadata": {
            "tags": []
          }
        }
      ]
    },
    {
      "cell_type": "code",
      "metadata": {
        "id": "8N2j3v4Vw7Jo",
        "colab_type": "code",
        "outputId": "77adb3dd-a873-4f8e-f3bc-bca5c992111a",
        "colab": {
          "base_uri": "https://localhost:8080/",
          "height": 207
        }
      },
      "source": [
        "prunned2 = pruning(thinned,3)\n",
        "\n",
        "cv2_imshow_bin(prunned2)"
      ],
      "execution_count": 0,
      "outputs": [
        {
          "output_type": "display_data",
          "data": {
            "image/png": "[encoded data removed]",
            "text/plain": [
              "<PIL.Image.Image image mode=L size=254x190 at 0x7FC70FE96780>"
            ]
          },
          "metadata": {
            "tags": []
          }
        }
      ]
    },
    {
      "cell_type": "code",
      "metadata": {
        "id": "2nCnyfnh-MdK",
        "colab_type": "code",
        "outputId": "d33cc09c-cc21-47d7-d304-5ff1d315d35e",
        "colab": {
          "base_uri": "https://localhost:8080/",
          "height": 623
        }
      },
      "source": [
        "# distance transform\n",
        "from scipy import ndimage\n",
        "\n",
        "#distanceMap = ndimage.distance_transform_edt(thinned)\n",
        "#cv2_imshow(distanceMap)\n",
        "#distanceMap\n",
        "\n",
        "img = cv2.imread('nanofibers.png',0)\n",
        "#ret,img = cv2.threshold(img,127,255,cv2.THRESH_BINARY_INV | cv2.THRESH_OTSU) # binarizacion\n",
        "ret,img = cv2.threshold(img,127,255,cv2.THRESH_BINARY | cv2.THRESH_OTSU) # binarizacion\n",
        "#bw = cv.threshold(bw, 40, 255, cv.THRESH_BINARY | cv.THRESH_OTSU)\n",
        "\n",
        "cv2_imshow(img)\n",
        "\n",
        "distanceMap = cv2.distanceTransform(img, cv2.DIST_L2, 0)\n",
        "\n",
        "cv2_imshow(distanceMap)\n",
        "\n",
        "distanceMap"
      ],
      "execution_count": 0,
      "outputs": [
        {
          "output_type": "display_data",
          "data": {
            "image/png": "[encoded data removed]",
            "text/plain": [
              "<PIL.Image.Image image mode=L size=254x190 at 0x7FC70FE96550>"
            ]
          },
          "metadata": {
            "tags": []
          }
        },
        {
          "output_type": "display_data",
          "data": {
            "image/png": "[encoded data removed]",
            "text/plain": [
              "<PIL.Image.Image image mode=L size=254x190 at 0x7FC70FE96358>"
            ]
          },
          "metadata": {
            "tags": []
          }
        },
        {
          "output_type": "execute_result",
          "data": {
            "text/plain": [
              "array([[1.       , 1.       , 1.       , ..., 0.       , 0.       ,\n",
              "        0.       ],\n",
              "       [0.       , 0.       , 0.       , ..., 0.       , 0.       ,\n",
              "        0.       ],\n",
              "       [0.       , 0.       , 0.       , ..., 0.       , 0.       ,\n",
              "        0.       ],\n",
              "       ...,\n",
              "       [5.       , 5.0990195, 5.3851647, ..., 0.       , 0.       ,\n",
              "        0.       ],\n",
              "       [6.       , 6.0827627, 6.3245554, ..., 0.       , 0.       ,\n",
              "        0.       ],\n",
              "       [7.       , 7.071068 , 7.28011  , ..., 0.       , 0.       ,\n",
              "        0.       ]], dtype=float32)"
            ]
          },
          "metadata": {
            "tags": []
          },
          "execution_count": 41
        }
      ]
    },
    {
      "cell_type": "code",
      "metadata": {
        "id": "CDq4Y4b7WrHH",
        "colab_type": "code",
        "outputId": "6431f94e-6f3f-418c-dfa4-36a41bd07e99",
        "colab": {
          "base_uri": "https://localhost:8080/",
          "height": 207
        }
      },
      "source": [
        "# para visualizar\n",
        "\n",
        "distanceMapNormalized = distanceMap.copy()\n",
        "\n",
        "cv2.normalize(distanceMap, distanceMapNormalized, 0, 255, cv2.NORM_MINMAX)\n",
        "\n",
        "cv2_imshow(distanceMapNormalized)\n",
        "\n",
        "#distanceMapNormalized"
      ],
      "execution_count": 0,
      "outputs": [
        {
          "output_type": "display_data",
          "data": {
            "image/png": "[encoded data removed]",
            "text/plain": [
              "<PIL.Image.Image image mode=L size=254x190 at 0x7FC70FE9B080>"
            ]
          },
          "metadata": {
            "tags": []
          }
        }
      ]
    },
    {
      "cell_type": "code",
      "metadata": {
        "id": "vBVEJy3IXF6r",
        "colab_type": "code",
        "outputId": "2deb703c-8807-4489-9cd8-e0fe85f4ae9c",
        "colab": {
          "base_uri": "https://localhost:8080/",
          "height": 329
        }
      },
      "source": [
        "#distanceMapGrays = distanceMapNormalized * 255\n",
        "\n",
        "distanceMapInverted = np.invert(distanceMapNormalized.astype('uint8'))\n",
        "\n",
        "cv2_imshow(distanceMapInverted)\n",
        "\n",
        "distanceMapInverted"
      ],
      "execution_count": 0,
      "outputs": [
        {
          "output_type": "display_data",
          "data": {
            "image/png": "[encoded data removed]",
            "text/plain": [
              "<PIL.Image.Image image mode=L size=254x190 at 0x7FC70FE9B048>"
            ]
          },
          "metadata": {
            "tags": []
          }
        },
        {
          "output_type": "execute_result",
          "data": {
            "text/plain": [
              "array([[231, 231, 231, ..., 255, 255, 255],\n",
              "       [255, 255, 255, ..., 255, 255, 255],\n",
              "       [255, 255, 255, ..., 255, 255, 255],\n",
              "       ...,\n",
              "       [133, 131, 124, ..., 255, 255, 255],\n",
              "       [109, 107, 101, ..., 255, 255, 255],\n",
              "       [ 85,  83,  78, ..., 255, 255, 255]], dtype=uint8)"
            ]
          },
          "metadata": {
            "tags": []
          },
          "execution_count": 43
        }
      ]
    },
    {
      "cell_type": "code",
      "metadata": {
        "id": "Hd4ePz-iHe5J",
        "colab_type": "code",
        "colab": {}
      },
      "source": [
        "#merged = cv2.subtract(distanceMapInverted,thinned.astype('uint8'))\n",
        "#cv2_imshow(merged)\n",
        "\n",
        "#distanceMapInvertedNormalized = distanceMapInverted.copy()\n",
        "\n",
        "#cv2.normalize(distanceMapInverted, distanceMapInvertedNormalized, 0, 1.0, cv2.NORM_MINMAX)\n",
        "\n",
        "#distanceMap distanceMap.astype('uint8')"
      ],
      "execution_count": 0,
      "outputs": []
    },
    {
      "cell_type": "code",
      "metadata": {
        "id": "wfNGi9RuSVDi",
        "colab_type": "code",
        "colab": {}
      },
      "source": [
        "# detección de intersecciones\n",
        "\n",
        "def neighbours(x,y,image):\n",
        "    \"\"\"Return 8-neighbours of image point P1(x,y), in a clockwise order\"\"\"\n",
        "    img = image\n",
        "    x_1, y_1, x1, y1 = x-1, y-1, x+1, y+1;\n",
        "    return [ img[x_1][y], img[x_1][y1], img[x][y1], img[x1][y1], img[x1][y], img[x1][y_1], img[x][y_1], img[x_1][y_1] ]\n",
        "  \n",
        "#out2,neighbours(0,0,out2)\n",
        "#out2[-1][1]\n",
        "#out2.shape, out2[190][0]\n",
        "\n",
        "def getSkeletonIntersection(skeleton):\n",
        "    \"\"\" Given a skeletonised image, it will give the coordinates of the intersections of the skeleton.\n",
        "    \n",
        "    Keyword arguments:\n",
        "    skeleton -- the skeletonised image to detect the intersections of\n",
        "    \n",
        "    Returns: \n",
        "    List of 2-tuples (x,y) containing the intersection coordinates\n",
        "    \"\"\"\n",
        "    # A biiiiiig list of valid intersections             2 3 4\n",
        "    # These are in the format shown to the right         1 C 5\n",
        "    #                                                    8 7 6 \n",
        "    validIntersection = [[0,1,0,1,0,0,1,0],[0,0,1,0,1,0,0,1],[1,0,0,1,0,1,0,0],\n",
        "                         [0,1,0,0,1,0,1,0],[0,0,1,0,0,1,0,1],[1,0,0,1,0,0,1,0],\n",
        "                         [0,1,0,0,1,0,0,1],[1,0,1,0,0,1,0,0],[0,1,0,0,0,1,0,1],\n",
        "                         [0,1,0,1,0,0,0,1],[0,1,0,1,0,1,0,0],[0,0,0,1,0,1,0,1],\n",
        "                         [1,0,1,0,0,0,1,0],[1,0,1,0,1,0,0,0],[0,0,1,0,1,0,1,0],\n",
        "                         [1,0,0,0,1,0,1,0],[1,0,0,1,1,1,0,0],[0,0,1,0,0,1,1,1],\n",
        "                         [1,1,0,0,1,0,0,1],[0,1,1,1,0,0,1,0],[1,0,1,1,0,0,1,0],\n",
        "                         [1,0,1,0,0,1,1,0],[1,0,1,1,0,1,1,0],[0,1,1,0,1,0,1,1],\n",
        "                         [1,1,0,1,1,0,1,0],[1,1,0,0,1,0,1,0],[0,1,1,0,1,0,1,0],\n",
        "                         [0,0,1,0,1,0,1,1],[1,0,0,1,1,0,1,0],[1,0,1,0,1,1,0,1],\n",
        "                         [1,0,1,0,1,1,0,0],[1,0,1,0,1,0,0,1],[0,1,0,0,1,0,1,1],\n",
        "                         [0,1,1,0,1,0,0,1],[1,1,0,1,0,0,1,0],[0,1,0,1,1,0,1,0],\n",
        "                         [0,0,1,0,1,1,0,1],[1,0,1,0,0,1,0,1],[1,0,0,1,0,1,1,0],\n",
        "                         [1,0,1,1,0,1,0,0]];\n",
        "    image = skeleton.copy();\n",
        "    #image = image/255;\n",
        "    intersections = list();\n",
        "    for x in range(1,len(image)-1):\n",
        "        for y in range(1,len(image[x])-1):\n",
        "            # If we have a white pixel\n",
        "            if image[x][y] == 1:\n",
        "                neighbours1 = neighbours(x,y,image);\n",
        "                valid = True;\n",
        "                if neighbours1 in validIntersection:\n",
        "                    intersections.append((y,x));\n",
        "    # Filter intersections to make sure we don't count them twice or ones that are very close together\n",
        "    for point1 in intersections:\n",
        "        for point2 in intersections:\n",
        "            if (((point1[0] - point2[0])**2 + (point1[1] - point2[1])**2) < 10**2) and (point1 != point2):\n",
        "                intersections.remove(point2);\n",
        "    # Remove duplicates\n",
        "    intersections = list(set(intersections));\n",
        "    return intersections;"
      ],
      "execution_count": 0,
      "outputs": []
    },
    {
      "cell_type": "code",
      "metadata": {
        "id": "E7BVx7bJREV1",
        "colab_type": "code",
        "outputId": "180c3e54-a0d7-4344-a75a-7d6f7304b262",
        "colab": {
          "base_uri": "https://localhost:8080/",
          "height": 156
        }
      },
      "source": [
        "#thinned.astype('uint8')\n",
        "\n",
        "# eliminacion de intersecciones\n",
        "\n",
        "intersecciones = getSkeletonIntersection(prunned2)\n",
        "\n",
        "intersecciones\n",
        "\n",
        "# determinar ancho\n",
        "\n",
        "#intersecciones[0][0],intersecciones[0][1]\n",
        "\n",
        "#out2[intersecciones[0][0]][intersecciones[0][1]] = 0\n",
        "\n",
        "#cv2_imshow(out2)"
      ],
      "execution_count": 0,
      "outputs": [
        {
          "output_type": "execute_result",
          "data": {
            "text/plain": [
              "[(132, 167),\n",
              " (62, 99),\n",
              " (103, 27),\n",
              " (195, 55),\n",
              " (55, 107),\n",
              " (46, 114),\n",
              " (212, 129),\n",
              " (209, 56)]"
            ]
          },
          "metadata": {
            "tags": []
          },
          "execution_count": 46
        }
      ]
    },
    {
      "cell_type": "code",
      "metadata": {
        "id": "iwCg32hZj27l",
        "colab_type": "code",
        "outputId": "5ef3841d-bb84-4e14-8b4d-a3d50938a2ba",
        "colab": {
          "base_uri": "https://localhost:8080/",
          "height": 207
        }
      },
      "source": [
        "#thinnedInter = thinned.copy()\n",
        "\n",
        "#for cross in intersecciones:\n",
        "#  thinnedInter[cross[1]][cross[0]] = False\n",
        "  \n",
        "#thinnedInter\n",
        "\n",
        "#cv2_imshow(np.where(thinnedInter==True, 255, thinnedInter))\n",
        "\n",
        "\n",
        "RGB = np.zeros((prunned2.shape[0],prunned2.shape[1],3), dtype=np.uint8)\n",
        "RGB[prunned2]  = [255,255,255]\n",
        "RGB[~prunned2] = [0,0,0]\n",
        "\n",
        "#cv2_imshow(RGB)\n",
        "\n",
        "#RGB.shape\n",
        "\n",
        "#RGB[0,0]\n",
        "\n",
        "for cross in intersecciones:\n",
        "  #thinnedInter[cross[1]][cross[0]] = False\n",
        "\n",
        "  x = cross[1]\n",
        "  y = cross[0]\n",
        "  \n",
        "  x_1, y_1, x1, y1 = x-1, y-1, x+1, y+1;\n",
        "  \n",
        "  #vecinos = neighbours(cross[1],cross[0],thinned)\n",
        "  \n",
        "  #print(vecinos)\n",
        "  RGB[x,y] = [0,0,255]\n",
        "  RGB[x_1,y] = [0,0,255]\n",
        "  RGB[x_1,y1] = [0,0,255]\n",
        "  RGB[x][y1] = [0,0,255]\n",
        "  RGB[x1][y1] = [0,0,255]\n",
        "  RGB[x1][y] = [0,0,255]\n",
        "  RGB[x1][y_1] = [0,0,255]\n",
        "  RGB[x][y_1] = [0,0,255]\n",
        "  RGB[x_1][y_1] = [0,0,255]\n",
        "  \n",
        "cv2_imshow(RGB)\n"
      ],
      "execution_count": 0,
      "outputs": [
        {
          "output_type": "display_data",
          "data": {
            "image/png": "[encoded data removed]",
            "text/plain": [
              "<PIL.Image.Image image mode=RGB size=254x190 at 0x7FC70FEB9A20>"
            ]
          },
          "metadata": {
            "tags": []
          }
        }
      ]
    },
    {
      "cell_type": "code",
      "metadata": {
        "id": "xK1ULrKmwCPn",
        "colab_type": "code",
        "outputId": "f3bfe73f-73fd-49ba-b729-696d575bc3d0",
        "colab": {
          "base_uri": "https://localhost:8080/",
          "height": 207
        }
      },
      "source": [
        "# ancho de intersecciones\n",
        "\n",
        "def removeCross(cross, distanceMap, thinned):\n",
        "\n",
        "  width = distanceMap[cross[1]][cross[0]]\n",
        "\n",
        "  width = width.astype('uint8')\n",
        "\n",
        "  for x in range(0,width*2+1):\n",
        "    for y in range(0,width*2+1):\n",
        "      #print(x - width, y - width)\n",
        "\n",
        "      i = cross[1] - width + x\n",
        "      j = cross[0] - width + y\n",
        "\n",
        "      thinned[i][j] = False\n",
        "      \n",
        "  return thinned \n",
        "\n",
        "#cross = intersecciones[0]\n",
        "\n",
        "uncrossed = prunned2.copy()\n",
        "\n",
        "for cross in intersecciones:\n",
        "  uncrossed = removeCross(cross, distanceMap, uncrossed)\n",
        "    \n",
        "cv2_imshow(np.where(uncrossed==True, 255, uncrossed))"
      ],
      "execution_count": 0,
      "outputs": [
        {
          "output_type": "display_data",
          "data": {
            "image/png": "[encoded data removed]",
            "text/plain": [
              "<PIL.Image.Image image mode=L size=254x190 at 0x7FC70FEB66A0>"
            ]
          },
          "metadata": {
            "tags": []
          }
        }
      ]
    },
    {
      "cell_type": "code",
      "metadata": {
        "id": "fGi6jiWlPqp0",
        "colab_type": "code",
        "outputId": "b56afd74-5e61-4620-b228-0cbafc30c306",
        "colab": {
          "base_uri": "https://localhost:8080/",
          "height": 34
        }
      },
      "source": [
        "# conteo de pixeles\n",
        "\n",
        "rows,cols = uncrossed.shape\n",
        "\n",
        "diameters = dict()\n",
        "\n",
        "for x in range(0, rows):\n",
        "    for y in range(0, cols):\n",
        "      #print(uncrossed[x][y])\n",
        "      if(uncrossed[x,y]):\n",
        "        # obtener ancho\n",
        "        #print(distanceMap[x,y].astype('uint8')*2)\n",
        "        diameter = distanceMap[x,y].astype('uint8')*2\n",
        "        \n",
        "        if(diameter in diameters):\n",
        "          diameters[diameter]+=1\n",
        "        else:\n",
        "          diameters[diameter]=1\n",
        "        #else:\n",
        "        #  diameters[diameter] += 1\n",
        "        #print(diameter)\n",
        "        \n",
        "        \n",
        "diameters"
      ],
      "execution_count": 0,
      "outputs": [
        {
          "output_type": "execute_result",
          "data": {
            "text/plain": [
              "{2: 28, 4: 99, 6: 82, 8: 190, 10: 254, 12: 130, 14: 195}"
            ]
          },
          "metadata": {
            "tags": []
          },
          "execution_count": 49
        }
      ]
    },
    {
      "cell_type": "code",
      "metadata": {
        "id": "keLoIztgOD8q",
        "colab_type": "code",
        "outputId": "759ea8fd-d80c-4ff4-d5bb-0ec0fe5f3aa7",
        "colab": {
          "base_uri": "https://localhost:8080/",
          "height": 283
        }
      },
      "source": [
        "#histograma del diametros en pxs\n",
        "\n",
        "import matplotlib.pyplot as plt\n",
        "\n",
        "plt.bar(list(diameters.keys()), diameters.values())\n",
        "plt.ylabel('Frecuencia')\n",
        "plt.xlabel('Diámetros')\n",
        "plt.show()"
      ],
      "execution_count": 0,
      "outputs": [
        {
          "output_type": "display_data",
          "data": {
            "image/png": "[encoded data removed]",
            "text/plain": [
              "<Figure size 432x288 with 1 Axes>"
            ]
          },
          "metadata": {
            "tags": []
          }
        }
      ]
    },
    {
      "cell_type": "code",
      "metadata": {
        "id": "qEtx0xLftjBc",
        "colab_type": "code",
        "outputId": "44e1cff6-3985-4ab5-eb7e-89cc06a74669",
        "colab": {
          "base_uri": "https://localhost:8080/",
          "height": 207
        }
      },
      "source": [
        "def myThinning(A, B):\n",
        "  BLen = len(B)\n",
        "  for i in range(BLen):\n",
        "    A = A - ndimage.binary_hit_or_miss(A, structure1=B[i])\n",
        "  return A\n",
        "\n",
        "An = skeleton.copy().astype('int')\n",
        "\n",
        "Bn = []\n",
        "\n",
        "Bn.append(np.array([[-1, 0, 0], [1, 1, 0], [-1, 0, 0]]))\n",
        "Bn.append(np.array([[-1, 1, -1], [0, 1, 0], [0, 0, 0]]))\n",
        "Bn.append(np.array([[0, 0, -1], [0, 1, 1], [0, 0, -1]]))\n",
        "Bn.append(np.array([[0, 0, 0], [0, 1, 0], [-1, 1, -1]]))\n",
        "\n",
        "Bn.append(np.array([[1, 0, 0], [0, 1, 0], [0, 0, 0]]))\n",
        "Bn.append(np.array([[0, 0, 1], [0, 1, 0], [0, 0, 0]]))\n",
        "Bn.append(np.array([[0, 0, 0], [0, 1, 0], [0, 0, 1]]))\n",
        "Bn.append(np.array([[0, 0, 0], [0, 1, 0], [1, 0, 0]]))\n",
        "\n",
        "for i in range(3):\n",
        "  myThinned = myThinning(An, Bn)\n",
        "\n",
        "cv2_imshow_bin(myThinned)"
      ],
      "execution_count": 0,
      "outputs": [
        {
          "output_type": "display_data",
          "data": {
            "image/png": "[encoded data removed]",
            "text/plain": [
              "<PIL.Image.Image image mode=L size=255x190 at 0x7FBF41FA30B8>"
            ]
          },
          "metadata": {
            "tags": []
          }
        }
      ]
    },
    {
      "cell_type": "code",
      "metadata": {
        "id": "i9fknLWmLQ7r",
        "colab_type": "code",
        "outputId": "42200b1f-cc79-4286-fc54-2bc035c2fd83",
        "colab": {
          "base_uri": "https://localhost:8080/",
          "height": 191
        }
      },
      "source": [
        "!pip install mahotas"
      ],
      "execution_count": 0,
      "outputs": [
        {
          "output_type": "stream",
          "text": [
            "Collecting mahotas\n",
            "\u001b[?25l  Downloading https://files.pythonhosted.org/packages/c0/80/7e5919af7d1b93fc5e85fe5bd2ba68379cfb9add9f83cdff95b65ea7f46d/mahotas-1.4.7.tar.gz (1.5MB)\n",
            "\u001b[K     |████████████████████████████████| 1.5MB 2.0MB/s \n",
            "\u001b[?25hRequirement already satisfied: numpy in /usr/local/lib/python3.6/dist-packages (from mahotas) (1.16.4)\n",
            "Building wheels for collected packages: mahotas\n",
            "  Building wheel for mahotas (setup.py) ... \u001b[?25l\u001b[?25hdone\n",
            "  Stored in directory: /root/.cache/pip/wheels/bb/0d/1e/c012eda7a9bb738a2fc531551681d680d31001abac3e14f3ed\n",
            "Successfully built mahotas\n",
            "Installing collected packages: mahotas\n",
            "Successfully installed mahotas-1.4.7\n"
          ],
          "name": "stdout"
        }
      ]
    }
  ]
}